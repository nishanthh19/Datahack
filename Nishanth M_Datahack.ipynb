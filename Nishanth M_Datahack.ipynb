{
  "cells": [
    {
      "cell_type": "code",
      "execution_count": null,
      "metadata": {
        "id": "Nqh-HNTLnbNi"
      },
      "outputs": [],
      "source": [
        "import pandas as pd\n",
        "from sklearn.model_selection import train_test_split\n",
        "from sklearn.preprocessing import StandardScaler, OneHotEncoder\n",
        "from sklearn.compose import ColumnTransformer\n",
        "from sklearn.pipeline import Pipeline\n",
        "from sklearn.impute import SimpleImputer\n",
        "from sklearn.linear_model import LogisticRegression\n",
        "from sklearn.multioutput import MultiOutputClassifier\n",
        "from sklearn.metrics import roc_auc_score"
      ]
    },
    {
      "cell_type": "code",
      "execution_count": null,
      "metadata": {
        "id": "raYWKMCSneUN"
      },
      "outputs": [],
      "source": [
        "train_features = pd.read_csv('training_set_features.csv')\n",
        "train_labels = pd.read_csv('training_set_labels.csv')\n",
        "test_features = pd.read_csv('test_set_features.csv')\n",
        "submission_format = pd.read_csv('submission_format.csv')"
      ]
    },
    {
      "cell_type": "code",
      "execution_count": null,
      "metadata": {
        "colab": {
          "base_uri": "https://localhost:8080/"
        },
        "id": "PhAKx24FnhQO",
        "outputId": "45a18d86-9d01-4314-f061-c015cf582391"
      },
      "outputs": [
        {
          "name": "stdout",
          "output_type": "stream",
          "text": [
            "ROC AUC for xyz vaccine: 0.8313516375463279\n",
            "ROC AUC for seasonal vaccine: 0.8560635216059745\n",
            "Mean ROC AUC: 0.8437075795761513\n"
          ]
        }
      ],
      "source": [
        "\n",
        "numeric_features = ['xyz_concern', 'xyz_knowledge', 'behavioral_antiviral_meds', 'behavioral_avoidance', 'behavioral_face_mask', 'behavioral_wash_hands', 'behavioral_large_gatherings', 'behavioral_outside_home', 'behavioral_touch_face', 'doctor_recc_xyz', 'doctor_recc_seasonal', 'chronic_med_condition', 'child_under_6_months', 'health_worker', 'health_insurance', 'opinion_xyz_vacc_effective', 'opinion_xyz_risk', 'opinion_xyz_sick_from_vacc', 'opinion_seas_vacc_effective', 'opinion_seas_risk', 'opinion_seas_sick_from_vacc', 'household_adults', 'household_children']\n",
        "\n",
        "categorical_features = ['age_group', 'education', 'race', 'sex', 'income_poverty', 'marital_status', 'rent_or_own', 'employment_status', 'hhs_geo_region', 'census_msa', 'employment_industry', 'employment_occupation']\n",
        "\n",
        "numeric_transformer = Pipeline(steps=[\n",
        "    ('imputer', SimpleImputer(strategy='median')),\n",
        "    ('scaler', StandardScaler())])\n",
        "\n",
        "categorical_transformer = Pipeline(steps=[\n",
        "    ('imputer', SimpleImputer(strategy='most_frequent')),\n",
        "    ('onehot', OneHotEncoder(handle_unknown='ignore'))])\n",
        "\n",
        "preprocessor = ColumnTransformer(\n",
        "    transformers=[\n",
        "        ('num', numeric_transformer, numeric_features),\n",
        "        ('cat', categorical_transformer, categorical_features)])\n",
        "\n",
        "model = Pipeline(steps=[('preprocessor', preprocessor), ('classifier', MultiOutputClassifier(LogisticRegression(max_iter=1000)))])\n",
        "\n",
        "X_train, X_val, y_train, y_val = train_test_split(train_features.drop(columns=['respondent_id']), train_labels[['xyz_vaccine', 'seasonal_vaccine']], test_size=0.2, random_state=42)\n",
        "\n",
        "model.fit(X_train, y_train)\n",
        "\n",
        "y_pred = model.predict_proba(X_val)\n",
        "\n",
        "roc_auc_xyz = roc_auc_score(y_val['xyz_vaccine'], y_pred[0][:, 1])\n",
        "roc_auc_seasonal = roc_auc_score(y_val['seasonal_vaccine'], y_pred[1][:, 1])\n",
        "mean_roc_auc = (roc_auc_xyz + roc_auc_seasonal) / 2\n",
        "\n",
        "print(f\"ROC AUC for xyz vaccine: {roc_auc_xyz}\")\n",
        "print(f\"ROC AUC for seasonal vaccine: {roc_auc_seasonal}\")\n",
        "print(f\"Mean ROC AUC: {mean_roc_auc}\")\n",
        "\n",
        "test_pred = model.predict_proba(test_features.drop(columns=['respondent_id']))\n",
        "\n",
        "submission_format['xyz_vaccine'] = test_pred[0][:, 1]\n",
        "submission_format['seasonal_vaccine'] = test_pred[1][:, 1]\n",
        "submission_format.to_csv('submission_format.csv', index=False)"
      ]
    }
  ],
  "metadata": {
    "colab": {
      "provenance": []
    },
    "kernelspec": {
      "display_name": "Python 3",
      "name": "python3"
    },
    "language_info": {
      "name": "python"
    }
  },
  "nbformat": 4,
  "nbformat_minor": 0
}
